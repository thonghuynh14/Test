{
 "cells": [
  {
   "cell_type": "code",
   "execution_count": 8,
   "metadata": {},
   "outputs": [
    {
     "name": "stdout",
     "output_type": "stream",
     "text": [
      "Hi anh Hùng anh tuổi con heo à!\n"
     ]
    }
   ],
   "source": [
    "list_hi = ['Hello','Hi','Chào']\n",
    "name = 'Hùng'\n",
    "gtinh = 'anh'\n",
    "nam_sinh = 1990\n",
    "nam_hien_tai = [2019,'heo']\n",
    "print('{0} {1} {2} {1} tuổi con {3} à!'.format(list_hi[1],gtinh,name,nam_hien_tai[1]))"
   ]
  },
  {
   "cell_type": "code",
   "execution_count": 4,
   "metadata": {},
   "outputs": [
    {
     "name": "stdout",
     "output_type": "stream",
     "text": [
      "['12', '25', '38', '18', '16']\n",
      "['12', '16', '18', '25', '38']\n"
     ]
    }
   ],
   "source": [
    "string= '12,25,38,18,16'\n",
    "list_str = string.split(',')\n",
    "print(list_str)\n",
    "list_str.sort()\n",
    "print(list_str)"
   ]
  },
  {
   "cell_type": "code",
   "execution_count": 5,
   "metadata": {},
   "outputs": [
    {
     "name": "stdout",
     "output_type": "stream",
     "text": [
      "2.8284271247461903\n"
     ]
    }
   ],
   "source": [
    "import math \n",
    "a = [1,2]\n",
    "b = [3,4]\n",
    "ab = math.sqrt((a[0]-b[0])**2+(a[1]-b[1])**2)\n",
    "print(ab)"
   ]
  },
  {
   "cell_type": "code",
   "execution_count": 7,
   "metadata": {},
   "outputs": [
    {
     "name": "stdout",
     "output_type": "stream",
     "text": [
      "5.196152422706632\n"
     ]
    }
   ],
   "source": [
    "import math \n",
    "a = [1,2,3]\n",
    "b = [4,5,6]\n",
    "abc = math.sqrt((a[0]-b[0])**2+(a[1]-b[1])**2+(a[2]-b[2])**2)\n",
    "print(abc)"
   ]
  },
  {
   "cell_type": "code",
   "execution_count": null,
   "metadata": {},
   "outputs": [],
   "source": []
  }
 ],
 "metadata": {
  "interpreter": {
   "hash": "07efdcd4b820c98a756949507a4d29d7862823915ec7477944641bea022f4f62"
  },
  "kernelspec": {
   "display_name": "Python 3.8.8 ('base')",
   "language": "python",
   "name": "python3"
  },
  "language_info": {
   "codemirror_mode": {
    "name": "ipython",
    "version": 3
   },
   "file_extension": ".py",
   "mimetype": "text/x-python",
   "name": "python",
   "nbconvert_exporter": "python",
   "pygments_lexer": "ipython3",
   "version": "3.8.8"
  },
  "orig_nbformat": 4
 },
 "nbformat": 4,
 "nbformat_minor": 2
}
